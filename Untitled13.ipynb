{
 "cells": [
  {
   "cell_type": "code",
   "execution_count": 20,
   "id": "cdb1e539",
   "metadata": {},
   "outputs": [
    {
     "name": "stdout",
     "output_type": "stream",
     "text": [
      "1\n",
      "dict_values([1, 2, 3])\n",
      "3\n"
     ]
    }
   ],
   "source": [
    "d={'a':1,'b':2,'c':3}\n",
    "print(d.get('a'))\n",
    "print(d.values())\n",
    "print(len(d))"
   ]
  },
  {
   "cell_type": "code",
   "execution_count": 23,
   "id": "27ec5bf9",
   "metadata": {},
   "outputs": [
    {
     "name": "stdout",
     "output_type": "stream",
     "text": [
      "{'roll': 101, 'name': 'akash', 'course': 'btech'}\n"
     ]
    }
   ],
   "source": [
    "student={'roll':101,'name':'akash'}\n",
    "student1={'course':'btech'}\n",
    "student.update(student1)\n",
    "print(student)"
   ]
  },
  {
   "cell_type": "code",
   "execution_count": 24,
   "id": "53265362",
   "metadata": {},
   "outputs": [
    {
     "name": "stdout",
     "output_type": "stream",
     "text": [
      "[1, 2, 3, 4, [5, 6]]\n"
     ]
    }
   ],
   "source": [
    "a=[1,2,3,4]\n",
    "b=[5,6]\n",
    "a.append(b)\n",
    "print(a)"
   ]
  },
  {
   "cell_type": "code",
   "execution_count": 27,
   "id": "70e95ffd",
   "metadata": {},
   "outputs": [
    {
     "ename": "AttributeError",
     "evalue": "'tuple' object has no attribute 'update'",
     "output_type": "error",
     "traceback": [
      "\u001b[1;31m---------------------------------------------------------------------------\u001b[0m",
      "\u001b[1;31mAttributeError\u001b[0m                            Traceback (most recent call last)",
      "Cell \u001b[1;32mIn[27], line 3\u001b[0m\n\u001b[0;32m      1\u001b[0m a\u001b[38;5;241m=\u001b[39m(\u001b[38;5;241m1\u001b[39m,\u001b[38;5;241m2\u001b[39m,\u001b[38;5;241m3\u001b[39m,\u001b[38;5;241m4\u001b[39m)\n\u001b[0;32m      2\u001b[0m b\u001b[38;5;241m=\u001b[39m(\u001b[38;5;241m5\u001b[39m,\u001b[38;5;241m6\u001b[39m)\n\u001b[1;32m----> 3\u001b[0m a\u001b[38;5;241m.\u001b[39mupdate(b)\n\u001b[0;32m      4\u001b[0m \u001b[38;5;28mprint\u001b[39m(a)\n",
      "\u001b[1;31mAttributeError\u001b[0m: 'tuple' object has no attribute 'update'"
     ]
    }
   ],
   "source": [
    "a=(1,2,3,4)\n",
    "b=(5,6)\n",
    "a.update(b)\n",
    "print(a)"
   ]
  },
  {
   "cell_type": "code",
   "execution_count": 28,
   "id": "346cdb7e",
   "metadata": {},
   "outputs": [
    {
     "name": "stdout",
     "output_type": "stream",
     "text": [
      "    January 2008\n",
      "Mo Tu We Th Fr Sa Su\n",
      "    1  2  3  4  5  6\n",
      " 7  8  9 10 11 12 13\n",
      "14 15 16 17 18 19 20\n",
      "21 22 23 24 25 26 27\n",
      "28 29 30 31\n",
      "\n"
     ]
    }
   ],
   "source": [
    "import calendar\n",
    "print(calendar.month(2008,1))"
   ]
  },
  {
   "cell_type": "code",
   "execution_count": 29,
   "id": "6244b205",
   "metadata": {},
   "outputs": [
    {
     "name": "stdout",
     "output_type": "stream",
     "text": [
      "Hello students\n",
      "This is printed after 2.4 seconds.\n"
     ]
    }
   ],
   "source": [
    "import time\n",
    "print(\"Hello students\")\n",
    "time.sleep(2.4)\n",
    "print(\"This is printed after 2.4 seconds.\")"
   ]
  },
  {
   "cell_type": "code",
   "execution_count": 31,
   "id": "f8cdead4",
   "metadata": {},
   "outputs": [
    {
     "name": "stdout",
     "output_type": "stream",
     "text": [
      "enter first number3\n",
      "enter second number4\n",
      "addition value= 7\n"
     ]
    }
   ],
   "source": [
    "def addition(a,b):\n",
    "    c=a+b\n",
    "    return(c)\n",
    "a=int(input(\"enter first number\"))\n",
    "b=int(input(\"enter second number\"))\n",
    "print(\"addition value=\",addition(a,b))"
   ]
  },
  {
   "cell_type": "code",
   "execution_count": 38,
   "id": "91dc1863",
   "metadata": {
    "scrolled": true
   },
   "outputs": [
    {
     "name": "stdout",
     "output_type": "stream",
     "text": [
      "enter the  number5000\n",
      "enter rate of interest2\n",
      "enter time3\n",
      "simple interest value= 300.0\n",
      "6000.0\n"
     ]
    }
   ],
   "source": [
    "def simple_interest(p,r,t):\n",
    "    s=p*r*t/100\n",
    "    return(s)\n",
    "p=int(input(\"enter the  number\"))\n",
    "r=int(input(\"enter rate of interest\"))\n",
    "t=int(input(\"enter time\"))\n",
    "print(\"simple interest value=\",simple_interest(p,r,t))\n",
    "print(simple_interest(100000,2,3))"
   ]
  },
  {
   "cell_type": "code",
   "execution_count": 39,
   "id": "39b4d558",
   "metadata": {},
   "outputs": [
    {
     "name": "stdout",
     "output_type": "stream",
     "text": [
      "1800.0\n"
     ]
    }
   ],
   "source": [
    "print(simple_interest(15000,3,4))"
   ]
  },
  {
   "cell_type": "code",
   "execution_count": 49,
   "id": "41104c1c",
   "metadata": {},
   "outputs": [
    {
     "name": "stdout",
     "output_type": "stream",
     "text": [
      "enter a number123\n",
      "reverse_number value= 321\n"
     ]
    }
   ],
   "source": [
    "def reverse_number(a):\n",
    "    rev=0\n",
    "    while a!=0:\n",
    "         rem=a%10\n",
    "         rev=rev*10+rem\n",
    "         a=a//10\n",
    "    return(rev)\n",
    "a=int(input(\"enter a number\"))\n",
    "print(\"reverse_number value=\", reverse_number(a))"
   ]
  },
  {
   "cell_type": "code",
   "execution_count": 51,
   "id": "c0edf77f",
   "metadata": {},
   "outputs": [
    {
     "name": "stdout",
     "output_type": "stream",
     "text": [
      "enter the number123\n",
      "addition_numbers value= 6\n"
     ]
    }
   ],
   "source": [
    "def addition_numbers(a):\n",
    "    sum=0\n",
    "    while a!=0:\n",
    "        rem=a%10\n",
    "        sum=sum+rem\n",
    "        a=a//10\n",
    "    return(sum)\n",
    "a=int(input(\"enter the number\"))\n",
    "print(\"addition_numbers value=\", addition_numbers(a))\n",
    "        "
   ]
  },
  {
   "cell_type": "code",
   "execution_count": null,
   "id": "39c784f9",
   "metadata": {},
   "outputs": [],
   "source": [
    "def prime_numbers(a):\n",
    "    count=0\n",
    "    i=1\n",
    "    while i<=a:\n",
    "        if(a% i==0):\n",
    "            count=count+1\n",
    "            i=i+1\n",
    "    if count==2:\n",
    "        print(\"prime\")\n",
    "    else:\n",
    "        print(\"not\")\n",
    "a=int(input(\"enter the number\"))\n",
    "print(prime_numbers(a))"
   ]
  },
  {
   "cell_type": "code",
   "execution_count": 59,
   "id": "b844dbb4",
   "metadata": {},
   "outputs": [],
   "source": [
    "def prime_numbers():\n",
    "    a=7\n",
    "    count=0\n",
    "    i=1\n",
    "    while i<=a:\n",
    "        if(a% i==0):\n",
    "            count=count+1\n",
    "            i=i+1\n",
    "    if count==2:\n",
    "        print(\"prime\")\n",
    "    else:\n",
    "        print(\"not\")"
   ]
  },
  {
   "cell_type": "code",
   "execution_count": 68,
   "id": "07e6a6a8",
   "metadata": {},
   "outputs": [
    {
     "name": "stdout",
     "output_type": "stream",
     "text": [
      "enter a number11\n",
      "prime\n",
      "None\n"
     ]
    }
   ],
   "source": [
    "def prime(num):\n",
    "    i=1\n",
    "    count=0\n",
    "    while(i<=num):\n",
    "        if(num%i==0):\n",
    "            count=count+1\n",
    "        i=i+1\n",
    "    if(count==2):\n",
    "        print(\"prime\")\n",
    "    else:\n",
    "        print(\"not\")\n",
    "num=int(input(\"enter a number\"))\n",
    "print(prime(num))"
   ]
  },
  {
   "cell_type": "code",
   "execution_count": null,
   "id": "54a94831",
   "metadata": {},
   "outputs": [],
   "source": []
  },
  {
   "cell_type": "code",
   "execution_count": null,
   "id": "fe0ca5ca",
   "metadata": {},
   "outputs": [],
   "source": []
  }
 ],
 "metadata": {
  "kernelspec": {
   "display_name": "Python 3 (ipykernel)",
   "language": "python",
   "name": "python3"
  },
  "language_info": {
   "codemirror_mode": {
    "name": "ipython",
    "version": 3
   },
   "file_extension": ".py",
   "mimetype": "text/x-python",
   "name": "python",
   "nbconvert_exporter": "python",
   "pygments_lexer": "ipython3",
   "version": "3.11.3"
  }
 },
 "nbformat": 4,
 "nbformat_minor": 5
}
